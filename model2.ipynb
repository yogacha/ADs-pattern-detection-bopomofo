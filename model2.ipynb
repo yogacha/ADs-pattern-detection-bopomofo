{
 "cells": [
  {
   "cell_type": "markdown",
   "metadata": {},
   "source": [
    "## 讀檔案 & train/test split"
   ]
  },
  {
   "cell_type": "code",
   "execution_count": 1,
   "metadata": {},
   "outputs": [],
   "source": [
    "import numpy as np\n",
    "import pickle\n",
    "import pandas as pd\n",
    "from sklearn.model_selection import train_test_split\n",
    "\n",
    "with open(\"data/bopomofo_interview.txt\", \"rb\") as file:   #Pickling\n",
    "    X = pickle.load(file)\n",
    "X = np.array(X)\n",
    "    \n",
    "y = pd.read_csv('data/interview_data.csv').is_ad.map({'Y': 1, 'N':0}).values\n",
    "y = np.array([1-y, y]).T  # 變換 1 -> [0, 1],  0 -> [1, 0]"
   ]
  },
  {
   "cell_type": "code",
   "execution_count": 2,
   "metadata": {},
   "outputs": [],
   "source": [
    "X, X_test, y, y_test = train_test_split(X, y, stratify=y,\n",
    "                                        test_size=0.2, random_state=88)"
   ]
  },
  {
   "cell_type": "markdown",
   "metadata": {},
   "source": [
    "# 模型架構\n",
    "\n",
    "這個模型事想法還是和[模型一](model1.ipynb)的特徵工程是類似的，不過不去做人為定義的特徵。\n",
    "\n",
    "模型一的特徵工程：\n",
    "\n",
    "   1. 是去尋找這段文字是中是否含有特定字眼。有則值 = 1 沒有就 = 0\n",
    "   \n",
    "\n",
    "   2. 先前的特徵我們可能允許文字的不精確性，比如：加(我)賴, `我`是可有可無的\n",
    "   \n",
    "   \n",
    "   3. 綜合這些特徵，進行最後的預測\n",
    "\n",
    "神經網路與之對應的結構：\n",
    "\n",
    "   1.  一個 filter 做 Convolution 可以視為該 filter 對應特徵的訊號強度\\\n",
    "       此時訊號強度不再是非1即0，而是一個浮點數\n",
    "      \n",
    "   \n",
    "   2. 做 Max pooling 時，較小的值不會出現在下一層。\\\n",
    "      造成時間方向(文字方向)的訊息被有條件的保留(去蕪存菁)\n",
    "   \n",
    "   \n",
    "   3. 卷積網路的最後一層 Global max pooling，是把字串不同位置，各訊號出現最強的大小保留，作為字串含有該訊號的程度。\\\n",
    "      形成字串的特徵表示，並在最後一層以 softmax 輸出，形成分類器。\n",
    "\n",
    "<table>\n",
    "<td> \n",
    "<img src=\"image/structure.png\" width=400/>\n",
    "</td> \n",
    "<td> \n",
    "<img src=\"image/lookback.png\" width=400/>\n",
    "</td> \n",
    "</table>\n",
    "\n",
    "網路的結構大致如上圖所示，輸入的 onehot 向量，先經過 embedding 得到表示一個字元的向量。然後卷積和pooling。\n",
    "\n",
    "不過有點可以注意到，max pooling(2) 會讓兩個字其中一個一定被刪除，要是剛好是兩個重要的字就糟了!\n",
    "\n",
    "所以我在這層用 stride = 1, 讓每個 pooling 的被考慮。也因為這樣，在下一層的卷積我用了 dilation = 2, 讓輸入是來自沒有重疊的 pool。\n",
    "\n",
    "使用dilation，也同時增加了最後特徵的所能尋找的原史訊號的最長長度(右圖)，最長能捕捉長度=5的字串"
   ]
  },
  {
   "cell_type": "code",
   "execution_count": 1,
   "metadata": {
    "scrolled": false
   },
   "outputs": [
    {
     "name": "stderr",
     "output_type": "stream",
     "text": [
      "Using TensorFlow backend.\n"
     ]
    }
   ],
   "source": [
    "import tensorflow as tf\n",
    "from keras.layers import Input, Dense, Add, Lambda, Layer, TimeDistributed, Softmax,\\\n",
    "                         MaxPool1D, Conv1D, GlobalMaxPool1D\n",
    "from keras import Model, regularizers\n",
    "import keras.backend as K\n",
    "from keras.losses import categorical_crossentropy\n",
    "from keras.optimizers import Adam"
   ]
  },
  {
   "cell_type": "code",
   "execution_count": 4,
   "metadata": {},
   "outputs": [
    {
     "name": "stdout",
     "output_type": "stream",
     "text": [
      "Model: \"model_1\"\n",
      "_________________________________________________________________\n",
      "Layer (type)                 Output Shape              Param #   \n",
      "=================================================================\n",
      "input_1 (InputLayer)         (None, None, 41)          0         \n",
      "_________________________________________________________________\n",
      "time_distributed_1 (TimeDist (None, None, 5)           205       \n",
      "_________________________________________________________________\n",
      "conv1d_1 (Conv1D)            (None, None, 8)           88        \n",
      "_________________________________________________________________\n",
      "max_pooling1d_1 (MaxPooling1 (None, None, 8)           0         \n",
      "_________________________________________________________________\n",
      "conv1d_2 (Conv1D)            (None, None, 10)          170       \n",
      "_________________________________________________________________\n",
      "global_max_pooling1d_1 (Glob (None, 10)                0         \n",
      "_________________________________________________________________\n",
      "dense_2 (Dense)              (None, 2)                 22        \n",
      "=================================================================\n",
      "Total params: 485\n",
      "Trainable params: 485\n",
      "Non-trainable params: 0\n",
      "_________________________________________________________________\n"
     ]
    }
   ],
   "source": [
    "K.clear_session()\n",
    "\n",
    "inp = Input( shape=(None, 41))   # shape=(batch, time, 41)\n",
    "\n",
    "repr_vec = TimeDistributed(\n",
    "                           Dense(5,  # embedding dimension\n",
    "                                 use_bias=False,\n",
    "                                 activation='linear', \n",
    "                                 kernel_regularizer=regularizers.l2(1e-4))\n",
    "                          )(inp) \n",
    "\n",
    "cnn1 = Conv1D(8,  kernel_size=2,\n",
    "              activation='relu',\n",
    "              kernel_regularizer=regularizers.l2(1e-4)\n",
    "             )(repr_vec)\n",
    "pool1 = MaxPool1D(pool_size=2, strides=1)(cnn1)\n",
    "\n",
    "cnn2 = Conv1D(10, kernel_size=2, dilation_rate=2, \n",
    "              activation='relu',\n",
    "              kernel_regularizer=regularizers.l2(1e-4)\n",
    "             )(pool1)\n",
    "sentence_vec = GlobalMaxPool1D()(cnn2)\n",
    "\n",
    "out = Dense(2, activation='softmax')(sentence_vec) \n",
    "\n",
    "model = Model(inp, out)\n",
    "model.compile(optimizer=Adam(lr=0.01, beta_1=0.8), \n",
    "              loss= categorical_crossentropy,\n",
    "              metrics=['acc'])\n",
    "model.summary()"
   ]
  },
  {
   "cell_type": "markdown",
   "metadata": {},
   "source": [
    "# Minibatch 梯度下降\n",
    "\n",
    "每次隨機抽 `200 個樣本`訓練，更新` 1 次梯度`。\n",
    "\n",
    "下一輪重抽 400 個樣本(`+200`)，以此類推...共作` 20 輪`。\n",
    "\n",
    "============================================\n",
    "\n",
    "抽部分樣本的**好處**是：\n",
    "\n",
    "   * 運算量變小，每次計算梯度的時間縮短，模型訓練較快\n",
    "\n",
    "   * 避免一次輸入過大的矩陣，造成 MemoryError。(全訓練資料是 48000 x 1500 x 41 的陣列)\n",
    "\n",
    "同時有著**缺點**：\n",
    "\n",
    "   * 抽取樣本的隨機性，若樣本不具代表性，則我們會朝錯誤的方向擬合\n",
    "\n",
    "\n",
    "對於**缺點應對**的方法：\n",
    "\n",
    "    1. 每次只更新 1 次梯度，避免過於傾向當前的 batch\n",
    "\n",
    "    2. 隨時間增加 batch size，增加 batch 的代表性。也就是梯度方向的 bias 會減小。\n",
    "\n",
    "    3. 用有動量的最佳化方法(這裡用 Adam)，前一輪的梯度方向會依例加在這一輪的梯度上。\n",
    "       就好像用前面每一個 batch 計算總梯度一樣，變象的增加 batch size 一樣。"
   ]
  },
  {
   "cell_type": "code",
   "execution_count": 5,
   "metadata": {
    "scrolled": true
   },
   "outputs": [
    {
     "name": "stdout",
     "output_type": "stream",
     "text": [
      "Epoch 1/1\n",
      "200/200 [==============================] - 1s 3ms/step - loss: 0.7659 - acc: 0.7700\n",
      "Epoch 1/1\n",
      "400/400 [==============================] - 0s 619us/step - loss: 0.5690 - acc: 0.7500\n",
      "Epoch 1/1\n",
      "600/600 [==============================] - 1s 999us/step - loss: 0.3085 - acc: 0.8933\n",
      "Epoch 1/1\n",
      "800/800 [==============================] - 1s 1ms/step - loss: 0.1067 - acc: 0.9775\n",
      "Epoch 1/1\n",
      "1000/1000 [==============================] - 1s 800us/step - loss: 0.0769 - acc: 0.9820\n",
      "Epoch 1/1\n",
      "1200/1200 [==============================] - 1s 1ms/step - loss: 0.1163 - acc: 0.9767\n",
      "Epoch 1/1\n",
      "1400/1400 [==============================] - 2s 2ms/step - loss: 0.0543 - acc: 0.9921\n",
      "Epoch 1/1\n",
      "1600/1600 [==============================] - 3s 2ms/step - loss: 0.0423 - acc: 0.9912\n",
      "Epoch 1/1\n",
      "1800/1800 [==============================] - 3s 2ms/step - loss: 0.0447 - acc: 0.9894\n",
      "Epoch 1/1\n",
      "2000/2000 [==============================] - 2s 1ms/step - loss: 0.0659 - acc: 0.9855\n",
      "Epoch 1/1\n",
      "2200/2200 [==============================] - 2s 1ms/step - loss: 0.0562 - acc: 0.9882\n",
      "Epoch 1/1\n",
      "2400/2400 [==============================] - 3s 1ms/step - loss: 0.0636 - acc: 0.9879\n",
      "Epoch 1/1\n",
      "2600/2600 [==============================] - 2s 788us/step - loss: 0.0536 - acc: 0.9888\n",
      "Epoch 1/1\n",
      "2800/2800 [==============================] - 4s 1ms/step - loss: 0.0486 - acc: 0.9896\n",
      "Epoch 1/1\n",
      "3000/3000 [==============================] - 5s 2ms/step - loss: 0.0544 - acc: 0.9887\n",
      "Epoch 1/1\n",
      "3200/3200 [==============================] - 3s 1ms/step - loss: 0.0403 - acc: 0.9937\n",
      "Epoch 1/1\n",
      "3400/3400 [==============================] - 6s 2ms/step - loss: 0.0458 - acc: 0.9909\n",
      "Epoch 1/1\n",
      "3600/3600 [==============================] - 4s 1ms/step - loss: 0.0605 - acc: 0.9861\n",
      "Epoch 1/1\n",
      "3800/3800 [==============================] - 5s 1ms/step - loss: 0.0588 - acc: 0.9882\n",
      "Epoch 1/1\n",
      "4000/4000 [==============================] - 7s 2ms/step - loss: 0.0396 - acc: 0.9920A: 0s - loss: 0.0402 -\n"
     ]
    }
   ],
   "source": [
    "def to3Darray(x):\n",
    "    \"\"\"Turn list of sparse Matrix into 3d Array.\"\"\"\n",
    "    maxlen = max( i.shape[0] for i in x )\n",
    "    res = np.zeros( shape=(len(x), maxlen, 41) )\n",
    "    for i, slice_ in enumerate(x):\n",
    "        res[i, :slice_.shape[0], :] = slice_.toarray()\n",
    "    return res\n",
    "\n",
    "def minibatch(size, x, y):\n",
    "    n = len(x)\n",
    "    choice = np.random.choice(np.arange(n), size, replace=False)\n",
    "    x_select = to3Darray(x[choice])\n",
    "    return x_select, y[choice, :]\n",
    "\n",
    "batch_size = 200  \n",
    "epoch = 1 # epoch for each minibatch\n",
    "\n",
    "for _ in range(20):\n",
    "    model.fit(*minibatch(batch_size, X, y), epochs=epoch) # 這裡顯示的是 batch 的 loss 和 Accuracy\n",
    "    batch_size += 200"
   ]
  },
  {
   "cell_type": "markdown",
   "metadata": {},
   "source": [
    "# test 表現\n",
    "\n",
    "* test 上表現的同樣比[樹模型](model1.ipynb)好"
   ]
  },
  {
   "cell_type": "code",
   "execution_count": 7,
   "metadata": {},
   "outputs": [
    {
     "name": "stdout",
     "output_type": "stream",
     "text": [
      "Accuracy\n",
      "12000/12000 [==============================] - 15s 1ms/step\n",
      "0.9910833239555359\n"
     ]
    }
   ],
   "source": [
    "print('Accuracy')\n",
    "print( model.evaluate(to3Darray(X_test), y_test)[1] )"
   ]
  },
  {
   "cell_type": "code",
   "execution_count": 18,
   "metadata": {},
   "outputs": [
    {
     "data": {
      "text/plain": [
       "array([[9053,   52],\n",
       "       [  55, 2840]], dtype=int64)"
      ]
     },
     "execution_count": 18,
     "metadata": {},
     "output_type": "execute_result"
    }
   ],
   "source": [
    "from sklearn.metrics import confusion_matrix\n",
    "\n",
    "confusion_matrix( y_test[:, 1], model.predict(to3Darray(X_test)).argmax(1) )\n",
    "# tn, fp, \n",
    "# fn, tp"
   ]
  },
  {
   "cell_type": "markdown",
   "metadata": {},
   "source": [
    "# 視覺化 Embedding Matrix\n",
    "\n",
    "看能不能從每個注音的表示向量觀察出甚麼有趣的事？比如我們在模型一時，相信聲母有比韻母更多資訊。"
   ]
  },
  {
   "cell_type": "code",
   "execution_count": 8,
   "metadata": {},
   "outputs": [
    {
     "data": {
      "text/plain": [
       "<matplotlib.colorbar.Colorbar at 0x208e1ee7888>"
      ]
     },
     "execution_count": 8,
     "metadata": {},
     "output_type": "execute_result"
    },
    {
     "data": {
      "image/png": "[encoded data removed]",
      "text/plain": [
       "<Figure size 1440x144 with 2 Axes>"
      ]
     },
     "metadata": {
      "needs_background": "light"
     },
     "output_type": "display_data"
    }
   ],
   "source": [
    "import matplotlib.pyplot as plt\n",
    "\n",
    "plt.rcParams['font.sans-serif'] = ['Taipei Sans TC Beta']\n",
    "\n",
    "w = np.array(model.layers[1].weights[0].value() ).T\n",
    "\n",
    "plt.figure(figsize=(20, 2))\n",
    "plt.imshow(w, cmap='rainbow')\n",
    "plt.yticks([]); \n",
    "plt.xticks(range(41), [chr(i) for i in range(12549, 12586)] + ['換行', 'line', '聲調', 'Az09'])\n",
    "plt.colorbar()"
   ]
  },
  {
   "cell_type": "markdown",
   "metadata": {},
   "source": [
    "# 儲存模型\n",
    "\n",
    "可以取消 train/test split 一樣做上面的 minibatch。應該會有更好的結果。"
   ]
  },
  {
   "cell_type": "code",
   "execution_count": 9,
   "metadata": {},
   "outputs": [],
   "source": [
    "model.save('model/cnn.h5')"
   ]
  },
  {
   "cell_type": "markdown",
   "metadata": {},
   "source": [
    "# 模型使用"
   ]
  },
  {
   "cell_type": "code",
   "execution_count": null,
   "metadata": {},
   "outputs": [],
   "source": [
    "from keras.models import load_model\n",
    "# model = load_model('model/cnn.h5')\n",
    "\n",
    "# with open(\"data/bopomofo_ooxx.txt\", \"rb\") as file:\n",
    "#     X = pickle.load(file)\n",
    "# X = np.array(X)\n",
    "# pred = model.predict(to3Darray(X)).argmax(1)"
   ]
  }
 ],
 "metadata": {
  "kernelspec": {
   "display_name": "Python 3",
   "language": "python",
   "name": "python3"
  },
  "language_info": {
   "codemirror_mode": {
    "name": "ipython",
    "version": 3
   },
   "file_extension": ".py",
   "mimetype": "text/x-python",
   "name": "python",
   "nbconvert_exporter": "python",
   "pygments_lexer": "ipython3",
   "version": "3.7.9"
  }
 },
 "nbformat": 4,
 "nbformat_minor": 4
}
